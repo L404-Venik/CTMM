{
 "cells": [
  {
   "cell_type": "code",
   "execution_count": null,
   "metadata": {},
   "outputs": [],
   "source": [
    "! pip install matplotlib\n",
    "! pip install numpy\n",
    "! pip install deepxde\n",
    "! pip3 install torch torchvision torchaudio --index-url https://download.pytorch.org/whl/cu118"
   ]
  },
  {
   "cell_type": "code",
   "execution_count": null,
   "metadata": {},
   "outputs": [],
   "source": [
    "import deepxde as dde\n",
    "from deepxde.backend import jax\n",
    "import numpy as np\n",
    "import torch\n",
    "\n",
    "\n",
    "device = torch.device(\"cuda\" if torch.cuda.is_available() else \"cpu\")\n",
    "\n",
    "\n",
    "def generate_poisson_problem(u_func, domain):\n",
    "    \"\"\"Генерирует f(x, y) и g(x, y) для заданного аналитического решения u(x, y)\"\"\"\n",
    "    def laplacian_u(xy):\n",
    "        x, y = xy[:, 0:1], xy[:, 1:2]\n",
    "        u_xx = -k**2 * np.sin(k * x) * np.cos(m * y)\n",
    "        u_yy = -m**2 * np.sin(k * x) * np.cos(m * y)\n",
    "        return -(u_xx + u_yy)\n",
    "    \n",
    "    k, m = 3, 4\n",
    "    f = laplacian_u\n",
    "    g = lambda xy: u_func(xy[:, 0:1], xy[:, 1:2])\n",
    "    return f, g\n",
    "\n",
    "def train_pinn(f, g, N_it=10000):\n",
    "    \n",
    "    def poisson_residual(x, u):\n",
    "        du_xx = dde.grad.hessian(u, x, i=0, j=0)\n",
    "        du_yy = dde.grad.hessian(u, x, i=1, j=1)\n",
    "        return du_xx + du_yy + f(x)\n",
    "    \n",
    "    def boundary(x, on_boundary):\n",
    "        return on_boundary\n",
    "    \n",
    "\n",
    "    geom = dde.geometry.Rectangle([0, 0], [np.pi, np.pi])\n",
    "    bc = dde.DirichletBC(geom, g, boundary)\n",
    "    data = dde.data.PDE(geom, poisson_residual, bc, num_domain=256, num_boundary=64)\n",
    "    net = dde.nn.FNN([2] + [50] * 3 + [1], \"tanh\", \"Glorot uniform\")\n",
    "    \n",
    "    model = dde.Model(data, net)\n",
    "    model.compile(\"adam\", lr=0.001)\n",
    "    loss_history, train_state = model.train(iterations=N_it)\n",
    "\n",
    "    dde.saveplot(loss_history, train_state, issave=True, isplot=True)\n",
    "\n",
    "    return model, loss_history\n",
    "\n",
    "u_func = lambda x, y: np.sin(1 * x) * np.cos(1 * y)\n",
    "f, g = generate_poisson_problem(u_func, [0, np.pi])\n",
    "model, loss_history = train_pinn(f, g)"
   ]
  },
  {
   "cell_type": "code",
   "execution_count": null,
   "metadata": {},
   "outputs": [],
   "source": [
    "\n",
    "# Оценка качества\n",
    "x_test = np.random.rand(1000, 2) * np.pi\n",
    "y_exact = u_func(x_test[:, 0:1], x_test[:, 1:2])\n",
    "y_pred = model.predict(x_test)\n",
    "y_pred = torch.tensor(y_pred, device=\"cpu\").numpy()\n",
    "\n",
    "l2_abs_error = np.linalg.norm(y_pred - y_exact, 2)\n",
    "l2_rel_error = l2_abs_error / np.linalg.norm(y_exact, 2)\n",
    "\n",
    "print(f\"Абсолютная L2 ошибка: {l2_abs_error}\")\n",
    "print(f\"Относительная L2 ошибка: {l2_rel_error}\")"
   ]
  }
 ],
 "metadata": {
  "kernelspec": {
   "display_name": ".venv",
   "language": "python",
   "name": "python3"
  },
  "language_info": {
   "codemirror_mode": {
    "name": "ipython",
    "version": 3
   },
   "file_extension": ".py",
   "mimetype": "text/x-python",
   "name": "python",
   "nbconvert_exporter": "python",
   "pygments_lexer": "ipython3",
   "version": "3.9.13"
  }
 },
 "nbformat": 4,
 "nbformat_minor": 2
}
