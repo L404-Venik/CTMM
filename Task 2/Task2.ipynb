{
 "cells": [
  {
   "cell_type": "code",
   "execution_count": 5,
   "metadata": {},
   "outputs": [],
   "source": [
    "import numpy as np\n",
    "def generate_n_body_initial_conditions(n, seed=42, xlim=(-1, 1), ylim=(-1, 1), vlim=(0, 0.5)):\n",
    "    np.random.seed(seed)\n",
    "    x = np.random.uniform(*xlim, size=n)\n",
    "    y = np.zeros(n)\n",
    "    #y = np.random.uniform(*ylim, size=n)\n",
    "    #Vx = np.random.uniform(*vlim, size=n)\n",
    "    Vx = np.zeros(n)\n",
    "    Vy = np.random.uniform(*vlim, size=n)\n",
    "    return np.column_stack((x, y, Vx, Vy))"
   ]
  },
  {
   "cell_type": "markdown",
   "metadata": {},
   "source": [
    "# Solar System initial conditions"
   ]
  },
  {
   "cell_type": "code",
   "execution_count": 79,
   "metadata": {},
   "outputs": [],
   "source": [
    "import numpy as np\n",
    "from scipy.integrate import odeint, solve_ivp\n",
    "import matplotlib.pyplot as plt\n",
    "\n",
    "G = 39.478  # Гравитационная постоянная в AU^3 / (Масса_Солнца * год^2)\n",
    "\n",
    "# Массы (в массах Солнца) и радиусы орбит (в а.е.), скорости (в а.е/год)\n",
    "bodies = {\n",
    "    \"Sun\":      (1.0, 0.0, 0.0),\n",
    "    \"Mercury\":  (1.65e-7, 0.39, 10.1),\n",
    "    \"Venus\":    (2.45e-6, 0.72, 7.4),\n",
    "    \"Earth\":    (3.00e-6, 1.00, 6.3),\n",
    "    \"Mars\":     (3.2e-7, 1.52, 5.1),\n",
    "    \"Jupiter\":  (9.55e-4, 5.20, 2.7),\n",
    "    \"Saturn\":   (2.86e-4, 9.58, 2.0),\n",
    "    \"Uranus\":   (4.37e-5, 19.22, 1.4),\n",
    "    \"Neptune\":  (5.15e-5, 30.05, 1.1),\n",
    "    #\"Pluto\":    (6.5e-9, 40.05, 0.945),\n",
    "}\n",
    "\n",
    "# Количество тел\n",
    "n: int = len(bodies)\n",
    "\n",
    "# Формируем массив масс и начальные условия\n",
    "masses = np.array([bodies[planet][0] for planet in bodies], dtype=np.float64)\n",
    "\n",
    "# Начальные условия: (x, y, Vx, Vy)\n",
    "initial_conditions = []\n",
    "for i, (planet, (mass, r, V)) in enumerate(bodies.items()):\n",
    "    x = r\n",
    "    y = 0\n",
    "    Vx = 0\n",
    "    Vy = np.sqrt(G * masses[0] / r) if planet != \"Sun\" else 0  # Только планеты имеют орбитальную скорость\n",
    "    initial_conditions.append([x, y, Vx, Vy])\n",
    "\n",
    "initial_conditions = np.array(initial_conditions, dtype=np.float64)\n",
    "T_max: int = 200\n",
    "dT: float = 0.01"
   ]
  },
  {
   "cell_type": "markdown",
   "metadata": {},
   "source": [
    "# Solar System with odeint"
   ]
  },
  {
   "cell_type": "code",
   "execution_count": 80,
   "metadata": {},
   "outputs": [],
   "source": [
    "def n_body_equations_odeint(state, t, n, masses):\n",
    "    \"\"\"Функция для odeint, описывающая уравнения движения n тел.\"\"\"\n",
    "    state = state.reshape(n, 4)\n",
    "    derivatives = np.zeros_like(state)\n",
    "\n",
    "    n = len(state)\n",
    "    # Позиции и скорости\n",
    "    pos = state[:, :2]   # (n, 2)\n",
    "    vel = state[:, 2:]   # (n, 2)\n",
    "\n",
    "    # Заполняем производные скоростей (dx/dt = vx, dy/dt = vy)\n",
    "    derivatives[:, :2] = vel\n",
    "\n",
    "    # Расчёт ускорений\n",
    "    for i in range(n):\n",
    "        r_i = pos[i]  # (2,)\n",
    "        diff = pos - r_i  # (n, 2)\n",
    "        dist = np.linalg.norm(diff, axis=1) + 1e-5  # (n,)\n",
    "        \n",
    "        # Удаляем вклад тела i в суммирование\n",
    "        mask = np.arange(n) != i\n",
    "        diff = diff[mask]             # (n-1, 2)\n",
    "        dist = dist[mask]             # (n-1,)\n",
    "        m = masses[mask]              # (n-1,)\n",
    "\n",
    "        # Ускорение: G * m / r^3 * dr\n",
    "        accel = (G * m / dist**3)[:, np.newaxis] * diff  # (n-1, 2)\n",
    "        total_accel = np.sum(accel, axis=0)\n",
    "\n",
    "        derivatives[i, 2:] = total_accel\n",
    "\n",
    "    return derivatives.flatten()\n",
    "\n",
    "def solve_n_body(n, masses, initial_conditions, t_max=50, dt=dT):\n",
    "    \"\"\"Решает задачу n тел и возвращает траектории.\"\"\"\n",
    "    t = np.arange(0, t_max, dt)\n",
    "    sol = odeint(n_body_equations_odeint, initial_conditions.flatten(), t, args=(n, masses))\n",
    "    return sol.reshape(-1, n, 4)"
   ]
  },
  {
   "cell_type": "code",
   "execution_count": 81,
   "metadata": {},
   "outputs": [],
   "source": [
    "trajectories_odeint = solve_n_body(n, masses, initial_conditions,t_max=200)"
   ]
  },
  {
   "cell_type": "code",
   "execution_count": null,
   "metadata": {},
   "outputs": [],
   "source": [
    "np.save(f\"saved_trajectories/Trajectories_odeint_{T_max}_{dT}.npy\", trajectories_odeint)"
   ]
  },
  {
   "cell_type": "markdown",
   "metadata": {},
   "source": [
    "# Solar System with solve_ivp"
   ]
  },
  {
   "cell_type": "code",
   "execution_count": 82,
   "metadata": {},
   "outputs": [],
   "source": [
    "def n_body_equations_ivp(t, y, n, masses):\n",
    "    state = y.reshape(n, 4)\n",
    "    derivatives = np.zeros_like(state)\n",
    "\n",
    "    pos = state[:, :2]\n",
    "    vel = state[:, 2:]\n",
    "\n",
    "    derivatives[:, :2] = vel\n",
    "\n",
    "    for i in range(n):\n",
    "        r_i = pos[i]\n",
    "        diff = pos - r_i\n",
    "        dist = np.linalg.norm(diff, axis=1) + 1e-5\n",
    "\n",
    "        mask = np.arange(n) != i\n",
    "        diff = diff[mask]\n",
    "        dist = dist[mask]\n",
    "        m = masses[mask]\n",
    "\n",
    "        accel = (G * m / dist**3)[:, np.newaxis] * diff\n",
    "        derivatives[i, 2:] = np.sum(accel, axis=0)\n",
    "\n",
    "    return derivatives.flatten()\n",
    "\n",
    "def solve_n_body(n, masses, initial_conditions, t_max=50, dt=0.01):\n",
    "    \"\"\"Решает задачу n тел и возвращает траектории, используя solve_ivp.\"\"\"\n",
    "    t_span = (0, t_max)\n",
    "    t_eval = np.arange(0, t_max, dt)\n",
    "    y0 = initial_conditions.flatten()\n",
    "    sol = solve_ivp(\n",
    "        n_body_equations_ivp,\n",
    "        t_span,\n",
    "        y0,\n",
    "        args=(n, masses),\n",
    "        t_eval=t_eval,\n",
    "        method='DOP853',\n",
    "        rtol=1e-9,\n",
    "        atol=1e-9\n",
    "    )\n",
    "    return sol.y.T.reshape(-1, n, 4)"
   ]
  },
  {
   "cell_type": "code",
   "execution_count": 97,
   "metadata": {},
   "outputs": [],
   "source": [
    "trajectories_ivp = solve_n_body(n, masses, initial_conditions,t_max=200)"
   ]
  },
  {
   "cell_type": "code",
   "execution_count": null,
   "metadata": {},
   "outputs": [],
   "source": [
    "np.save(f\"saved_trajectories/Trajectories_ivp_{T_max}_{dT}.npy\", trajectories_ivp)"
   ]
  },
  {
   "cell_type": "markdown",
   "metadata": {},
   "source": [
    "# Solar system wiht Verlet method"
   ]
  },
  {
   "cell_type": "code",
   "execution_count": 84,
   "metadata": {},
   "outputs": [],
   "source": [
    "# initial conditions\n",
    "steps = int(T_max / dT)\n",
    "positions = initial_conditions[:, :2]\n",
    "velocities = initial_conditions[:, 2:]"
   ]
  },
  {
   "cell_type": "code",
   "execution_count": 85,
   "metadata": {},
   "outputs": [],
   "source": [
    "# part used in multiple places\n",
    "merge_threshold = 0.015 \n",
    "\n",
    "def merge_bodies(positions, velocities, masses):\n",
    "    n = len(masses)\n",
    "    \n",
    "    for i in range(n):\n",
    "        if masses[i] == 0:\n",
    "            continue\n",
    "        for j in range(i + 1, n):\n",
    "            if masses[j] == 0:\n",
    "                continue\n",
    "            if np.linalg.norm(positions[i] - positions[j]) < merge_threshold:\n",
    "                total_mass = masses[i] + masses[j]\n",
    "                positions[i] = (masses[i] * positions[i] + masses[j] * positions[j]) / total_mass\n",
    "                velocities[i] = (masses[i] * velocities[i] + masses[j] * velocities[j]) / total_mass\n",
    "                masses[i] += masses[j]\n",
    "                velocities[i] = 0\n",
    "                masses[j] = 0\n",
    "                break\n",
    "    \n",
    "    return positions, velocities, masses"
   ]
  },
  {
   "cell_type": "code",
   "execution_count": 86,
   "metadata": {},
   "outputs": [],
   "source": [
    "def compute_accelerations(positions, masses):\n",
    "\n",
    "    n = len(masses)\n",
    "    accelerations = np.zeros_like(positions)\n",
    "    for i in range(n):\n",
    "        for j in range(n):\n",
    "            if i != j:\n",
    "                r_vec = positions[j] - positions[i]\n",
    "                r = np.linalg.norm(r_vec)\n",
    "                if r > 0:\n",
    "                    accelerations[i] += G * masses[j] * r_vec / r**3\n",
    "\n",
    "    return accelerations\n",
    "\n",
    "\n",
    "def verlet_integration(n, masses, positions, velocities, dt, steps):\n",
    "    positions_history = np.zeros((steps, positions.shape[0], positions.shape[1]),dtype=np.float64)\n",
    "    accelerations = compute_accelerations(positions, masses)\n",
    "    \n",
    "    for i in range(steps):\n",
    "        new_positions = positions + velocities * dt + 0.5 * accelerations * dt**2\n",
    "        new_accelerations = compute_accelerations(new_positions, masses)\n",
    "        new_velocities = velocities + 0.5 * (accelerations + new_accelerations) * dt\n",
    "        \n",
    "        positions, velocities, masses = merge_bodies(new_positions, new_velocities, masses)\n",
    "        accelerations = compute_accelerations(positions, masses)\n",
    "        positions_history[i] = positions.copy()\n",
    "    \n",
    "    return positions_history"
   ]
  },
  {
   "cell_type": "code",
   "execution_count": 87,
   "metadata": {},
   "outputs": [],
   "source": [
    "trajectories_verlet = verlet_integration(n, masses, positions, velocities, dT, steps)"
   ]
  },
  {
   "cell_type": "code",
   "execution_count": null,
   "metadata": {},
   "outputs": [],
   "source": [
    "np.save(f\"saved_trajectories/Trajectories_Verlet_{T_max}_{dT}.npy\", trajectories_verlet)"
   ]
  },
  {
   "cell_type": "markdown",
   "metadata": {},
   "source": [
    "# Solar system with Verlet and mutiprocessing"
   ]
  },
  {
   "cell_type": "code",
   "execution_count": 88,
   "metadata": {},
   "outputs": [],
   "source": [
    "from multiprocessing import cpu_count\n",
    "from concurrent.futures import ThreadPoolExecutor\n",
    "executor = None\n",
    "\n",
    "def partial_acceleration(start, end, positions, masses, n):\n",
    "    acc = np.zeros((end - start, 2), dtype=np.float64)\n",
    "    for idx, i in enumerate(range(start, end)):\n",
    "        for j in range(n):\n",
    "            if i != j:\n",
    "                r_vec = positions[j] - positions[i]\n",
    "                r = np.linalg.norm(r_vec)\n",
    "                if r > 0:\n",
    "                    acc[idx] += G * masses[j] * r_vec / r**3\n",
    "    return start, acc\n",
    "\n",
    "def compute_accelerations_parallel(positions, masses, index_ranges):\n",
    "    global executor\n",
    "    n = len(masses)\n",
    "    accelerations = np.zeros_like(positions)\n",
    "    futures = []\n",
    "\n",
    "    for start, end in index_ranges:\n",
    "        futures.append(\n",
    "            executor.submit(partial_acceleration, start, end, positions, masses, n)\n",
    "        )\n",
    "\n",
    "    for future in futures:\n",
    "        start, partial = future.result()\n",
    "        accelerations[start:start+partial.shape[0]] = partial\n",
    "\n",
    "    return accelerations\n",
    "\n",
    "def split_indices(n, num_chunks):\n",
    "    chunk_size = (n + num_chunks - 1) // num_chunks\n",
    "    return [(i, min(i + chunk_size, n)) for i in range(0, n, chunk_size)]\n",
    "\n",
    "def verlet_integration_threaded(n, masses, positions, velocities, dt, steps, num_threads=cpu_count()):\n",
    "    global executor\n",
    "    positions_history = np.zeros((steps, positions.shape[0], positions.shape[1]), dtype=np.float64)\n",
    "    index_ranges = split_indices(len(masses), num_threads)\n",
    "\n",
    "    with ThreadPoolExecutor(max_workers=num_threads) as pool:\n",
    "        executor = pool  # сохраняем глобально\n",
    "        accelerations = compute_accelerations_parallel(positions, masses, index_ranges)\n",
    "\n",
    "        for i in range(steps):\n",
    "            new_positions = positions + velocities * dt + 0.5 * accelerations * dt**2\n",
    "            new_accelerations = compute_accelerations_parallel(new_positions, masses, index_ranges)\n",
    "            new_velocities = velocities + 0.5 * (accelerations + new_accelerations) * dt\n",
    "\n",
    "            positions, velocities, masses = merge_bodies(new_positions, new_velocities, masses)\n",
    "            accelerations = compute_accelerations_parallel(positions, masses, index_ranges)\n",
    "            positions_history[i] = positions.copy()\n",
    "\n",
    "    return positions_history"
   ]
  },
  {
   "cell_type": "code",
   "execution_count": 101,
   "metadata": {},
   "outputs": [],
   "source": [
    "if __name__ == \"__main__\":\n",
    "\n",
    "    trajectories_threaded = verlet_integration_threaded(n, masses, positions, velocities, dT, steps)"
   ]
  },
  {
   "cell_type": "markdown",
   "metadata": {},
   "source": [
    "# Solar system wiht Verlet and numba"
   ]
  },
  {
   "cell_type": "code",
   "execution_count": 102,
   "metadata": {},
   "outputs": [],
   "source": [
    "from numba import njit, prange, float64\n",
    "merge_threshold = 0.015  # Пороговое расстояние для объединения тел\n",
    "\n",
    "@njit(float64[:,:](float64[:,:],float64[:]))\n",
    "def compute_accelerations_numba(positions: np.array, masses: np.array):\n",
    "    n = len(masses)\n",
    "    accelerations = np.zeros_like(positions)\n",
    "    for i in range(n):\n",
    "        for j in range(n):\n",
    "            if i != j:\n",
    "                r_vec = positions[j] - positions[i]\n",
    "                r = np.linalg.norm(r_vec)\n",
    "                if r > 0:\n",
    "                    accelerations[i] += G * masses[j] * r_vec / r**3\n",
    "\n",
    "    return accelerations\n",
    "\n",
    "@njit((float64[:,:],float64[:,:],float64[:]))\n",
    "def merge_bodies_numba(positions: np.array, velocities: np.array, masses: np.array):\n",
    "    n = len(masses)\n",
    "    \n",
    "    for i in range(n):\n",
    "        if masses[i] == 0:\n",
    "            continue\n",
    "        for j in range(i + 1, n):\n",
    "            if masses[j] == 0:\n",
    "                continue\n",
    "            if np.linalg.norm(positions[i] - positions[j]) < merge_threshold:\n",
    "                total_mass = masses[i] + masses[j]\n",
    "                positions[i] = (masses[i] * positions[i] + masses[j] * positions[j]) / total_mass\n",
    "                velocities[i] = (masses[i] * velocities[i] + masses[j] * velocities[j]) / total_mass\n",
    "                masses[i] += masses[j]\n",
    "                velocities[i] = 0\n",
    "                masses[j] = 0\n",
    "                break\n",
    "    \n",
    "    return positions, velocities, masses\n",
    "\n",
    "#@njit\n",
    "def verlet_integration_numba(n: int, masses: np.array, positions: np.array, velocities: np.array, dt: float, steps: int):\n",
    "    positions_history = np.zeros((steps, positions.shape[0], positions.shape[1]),dtype=np.float64)\n",
    "    accelerations = compute_accelerations_numba(positions, masses)\n",
    "    \n",
    "    for i in range(steps):\n",
    "        new_positions = positions + velocities * dt + 0.5 * accelerations * dt**2\n",
    "        new_accelerations = compute_accelerations_numba(new_positions, masses)\n",
    "        new_velocities = velocities + 0.5 * (accelerations + new_accelerations) * dt\n",
    "        \n",
    "        positions, velocities, masses = merge_bodies_numba(new_positions, new_velocities, masses)\n",
    "        accelerations = compute_accelerations_numba(positions, masses)\n",
    "        positions_history[i] = positions.copy()\n",
    "    \n",
    "    return positions_history"
   ]
  },
  {
   "cell_type": "code",
   "execution_count": 103,
   "metadata": {},
   "outputs": [],
   "source": [
    "trajectories_numba = verlet_integration_numba(n, masses, positions, velocities, dT, steps)"
   ]
  },
  {
   "cell_type": "markdown",
   "metadata": {},
   "source": [
    "# Solar system wiht Verlet and Cython"
   ]
  },
  {
   "cell_type": "code",
   "execution_count": 92,
   "metadata": {},
   "outputs": [],
   "source": [
    "from nbody_cython import verlet_integration_cython\n",
    "\n",
    "# to compile cython part:\n",
    "# python setup.py build_ext --inplace"
   ]
  },
  {
   "cell_type": "code",
   "execution_count": 93,
   "metadata": {},
   "outputs": [],
   "source": [
    "trajectories_cython = verlet_integration_cython(n, masses.copy(), positions, velocities, dT, steps)"
   ]
  },
  {
   "cell_type": "markdown",
   "metadata": {},
   "source": [
    "# Solar system wiht Verlet and Open CL"
   ]
  },
  {
   "cell_type": "code",
   "execution_count": 94,
   "metadata": {},
   "outputs": [],
   "source": [
    "import pyopencl as cl\n",
    "\n",
    "def verlet_integration_opencl(n, masses, positions, velocities, dt, steps, G=39.478):\n",
    "    masses = masses.astype(np.float32)\n",
    "    positions = positions.astype(np.float32)\n",
    "    velocities = velocities.astype(np.float32)\n",
    "    \n",
    "    ctx = cl.create_some_context()\n",
    "    queue = cl.CommandQueue(ctx)#, properties=cl.command_queue_properties.PROFILING_ENABLE)\n",
    "\n",
    "    with open(\"nbody_kernel.cl\") as f:\n",
    "        program = cl.Program(ctx, f.read()).build()\n",
    "\n",
    "    mf = cl.mem_flags\n",
    "    pos_buf = cl.Buffer(ctx, mf.READ_WRITE | mf.COPY_HOST_PTR, hostbuf=positions)\n",
    "    vel_buf = cl.Buffer(ctx, mf.READ_WRITE | mf.COPY_HOST_PTR, hostbuf=velocities)\n",
    "    mass_buf = cl.Buffer(ctx, mf.READ_ONLY | mf.COPY_HOST_PTR, hostbuf=masses)\n",
    "    traj_buf = cl.Buffer(ctx, mf.WRITE_ONLY, positions.nbytes * steps)\n",
    "\n",
    "    kernel = program.verlet_nbody\n",
    "    kernel.set_args(pos_buf, vel_buf, mass_buf, traj_buf, np.int32(n), np.float32(dt), np.int32(steps), np.float32(G))\n",
    "\n",
    "    cl.enqueue_nd_range_kernel(queue, kernel, (n,), None)\n",
    "    queue.finish()\n",
    "\n",
    "    trajectories = np.empty((steps, n, 2), dtype=np.float32)\n",
    "    cl.enqueue_copy(queue, trajectories, traj_buf)\n",
    "    queue.finish()\n",
    "\n",
    "    return trajectories"
   ]
  },
  {
   "cell_type": "code",
   "execution_count": 95,
   "metadata": {},
   "outputs": [],
   "source": [
    "trajectories_opencl = verlet_integration_opencl(n, masses.copy(), positions, velocities, dT, steps)"
   ]
  },
  {
   "cell_type": "markdown",
   "metadata": {},
   "source": [
    "# Visualisation"
   ]
  },
  {
   "cell_type": "code",
   "execution_count": 29,
   "metadata": {},
   "outputs": [],
   "source": [
    "trajectories_copy = np.array(trajectories)\n",
    "for i, planet in enumerate(bodies.keys()):\n",
    "    \n",
    "    if i < 1 :\n",
    "        continue\n",
    "\n",
    "    length = np.log(bodies[planet][1] + 2)\n",
    "   \n",
    "    trajectories_copy[:,i,0] /= length\n",
    "    trajectories_copy[:,i,1] /= length"
   ]
  },
  {
   "cell_type": "code",
   "execution_count": null,
   "metadata": {},
   "outputs": [],
   "source": [
    "# Визуализация\n",
    "plt.figure(figsize=(10, 10))\n",
    "for i, planet in enumerate(bodies.keys()):\n",
    "    limit =  -1 #200*i**2\n",
    "    plt.plot(trajectories_copy[:limit, i, 0], trajectories_copy[:limit, i, 1], label=planet)\n",
    "\n",
    "plt.scatter(0, 0, color='yellow', s=100, label=\"Sun\")\n",
    "plt.legend()\n",
    "plt.xlabel(\"x (AU)\")\n",
    "plt.ylabel(\"y (AU)\")\n",
    "plt.title(\"Траектории планет в плоскости\")\n",
    "plt.grid()\n",
    "plt.show()"
   ]
  },
  {
   "cell_type": "code",
   "execution_count": null,
   "metadata": {},
   "outputs": [],
   "source": [
    "import matplotlib.animation as animation\n",
    "\n",
    "fig, ax = plt.subplots()\n",
    "ax.set(xlim=[-10, 10], ylim=[-10, 10], xlabel='x', ylabel='y')\n",
    "lines = []\n",
    "for i, planet in enumerate(bodies.keys()):\n",
    "#lines = np.array((1,10,2))\n",
    "    lines.append(ax.plot(trajectories_copy[0,i,0], trajectories_copy[0,i,1])[0])\n",
    "\n",
    "def update(frame):\n",
    "    for i, planet in enumerate(bodies.keys()):\n",
    "        last_value = min(frame, 200*i**2)\n",
    "        _x = trajectories_copy[:last_value, i, 0]\n",
    "        lines[i].set_xdata(_x)\n",
    "        lines[i].set_ydata(trajectories_copy[:last_value, i, 1])\n",
    "    return lines\n",
    "\n",
    "ani = animation.FuncAnimation(fig=fig, func=update, frames=1000, interval=30)\n",
    "ani.save(\"animation.gif\", writer=\"pillow\")\n",
    "plt.show()"
   ]
  },
  {
   "cell_type": "markdown",
   "metadata": {},
   "source": [
    "# Solutions comparison"
   ]
  },
  {
   "cell_type": "markdown",
   "metadata": {},
   "source": [
    "### Accuracy"
   ]
  },
  {
   "cell_type": "code",
   "execution_count": 109,
   "metadata": {},
   "outputs": [
    {
     "name": "stdout",
     "output_type": "stream",
     "text": [
      "Comparison related to odeint soluton\n",
      "solve_ivp absolute error:  2.768819466618407\n",
      "solve_ivp mean error:  0.00013844097333092035\n",
      "verlet absolute error:  23.76475589885783\n",
      "verlet mean error:  0.0011882377949428914\n",
      "verlet with multithreading absolute error:  23.76475589885783\n",
      "verlet with multithreading mean error:  0.0011882377949428914\n",
      "verlet with numba absolute error:  23.76475589113539\n",
      "verlet with numba mean error:  0.0011882377945567695\n",
      "verlet with cython absolute error:  23.76475588960845\n",
      "verlet with cython mean error:  0.0011882377944804224\n",
      "verlet with opencl absolute error:  -35.78569698306711\n",
      "verlet with opencl mean error:  -0.0017892848491533556\n"
     ]
    }
   ],
   "source": [
    "print(\"Comparison related to odeint soluton\")\n",
    "print(\"solve_ivp absolute error: \" , np.sum(trajectories_odeint[:,:,:2] - trajectories_ivp[:,:,:2]))\n",
    "print(\"solve_ivp mean error: \" , np.sum(trajectories_odeint[:,:,:2] - trajectories_ivp[:,:,:2]) / trajectories_ivp.shape[0])\n",
    "\n",
    "print(\"verlet absolute error: \" , np.sum(trajectories_odeint[:,:,:2] - trajectories_verlet))\n",
    "print(\"verlet mean error: \" , np.sum(trajectories_odeint[:,:,:2] - trajectories_verlet) / trajectories_verlet.shape[0])\n",
    "\n",
    "print(\"verlet with multithreading absolute error: \" , np.sum(trajectories_odeint[:,:,:2] - trajectories_threaded))\n",
    "print(\"verlet with multithreading mean error: \" , np.sum(trajectories_odeint[:,:,:2] - trajectories_threaded) / trajectories_threaded.shape[0])\n",
    "\n",
    "print(\"verlet with numba absolute error: \" , np.sum(trajectories_odeint[:,:,:2] - trajectories_numba))\n",
    "print(\"verlet with numba mean error: \" , np.sum(trajectories_odeint[:,:,:2] - trajectories_numba) / trajectories_numba.shape[0])\n",
    "\n",
    "print(\"verlet with cython absolute error: \" , np.sum(trajectories_odeint[:,:,:2] - trajectories_cython))\n",
    "print(\"verlet with cython mean error: \" , np.sum(trajectories_odeint[:,:,:2] - trajectories_cython) / trajectories_cython.shape[0])\n",
    "\n",
    "print(\"verlet with opencl absolute error: \" , np.sum(trajectories_odeint[:,:,:2] - trajectories_opencl))\n",
    "print(\"verlet with opencl mean error: \" , np.sum(trajectories_odeint[:,:,:2] - trajectories_opencl) / trajectories_opencl.shape[0])"
   ]
  },
  {
   "cell_type": "markdown",
   "metadata": {},
   "source": [
    "### Performance"
   ]
  },
  {
   "cell_type": "code",
   "execution_count": null,
   "metadata": {},
   "outputs": [
    {
     "data": {
      "image/png": "[encoded data removed]",
      "text/plain": [
       "<Figure size 640x480 with 1 Axes>"
      ]
     },
     "metadata": {},
     "output_type": "display_data"
    }
   ],
   "source": [
    "n = 50\n",
    "masses = 1e-5 * np.ones(n)\n",
    "seed = 42\n",
    "initial_conditions = generate_n_body_initial_conditions(n, seed)\n",
    "\n",
    "T_max = 10\n",
    "dt = 0.01\n",
    "steps = int(T_max / dT)\n",
    "positions = initial_conditions[:, :2]\n",
    "velocities = initial_conditions[:, 2:]\n",
    "trajectories = verlet_integration_numba(n, masses.copy(), positions, velocities, dT, steps)\n",
    "trajectories = verlet_integration_opencl(n, masses.copy(), positions, velocities, dT, steps)\n",
    "trajectories = verlet_integration_numba(n, masses.copy(), positions, velocities, dT, steps)\n",
    "if __name__ == \"__main__\":\n",
    "    trajectories = verlet_integration_threaded(n, masses, positions, velocities, dT, steps)\n",
    "\n",
    "# Пример вывода координат первого тела\n",
    "for i in range(n):\n",
    "    plt.plot(trajectories[:, i, 0], trajectories[:, i, 1])\n",
    "\n",
    "#plt.legend()\n",
    "plt.xlabel(\"x\")\n",
    "plt.ylabel(\"y\")\n",
    "plt.title(\"Траектории движения тел\")\n",
    "plt.show()"
   ]
  },
  {
   "cell_type": "code",
   "execution_count": 110,
   "metadata": {},
   "outputs": [],
   "source": [
    "functions = [verlet_integration, verlet_integration_threaded, verlet_integration_numba, verlet_integration_cython, verlet_integration_opencl]\n",
    "function_names = [f.__name__ for f in functions]\n",
    "\n",
    "Ns = [100, 200, 400]\n",
    "seed = 42\n",
    "initial_conditions =[]\n",
    "masses = []\n",
    "for i in range(len(Ns)):\n",
    "    initial_conditions.append(generate_n_body_initial_conditions(Ns[i], seed))\n",
    "    masses.append(1e-5 * np.ones(Ns[i]))\n",
    "\n",
    "T_max = 10\n",
    "dT = 0.01\n",
    "steps = int(T_max / dT)\n",
    "\n",
    "input_sets = [\n",
    "    (Ns[0], masses[0].copy(), initial_conditions[0][:,:2], initial_conditions[0][:,2:], dT, steps),\n",
    "    (Ns[1], masses[1].copy(), initial_conditions[1][:,:2], initial_conditions[1][:,2:], dT, steps),\n",
    "    (Ns[0], masses[2].copy(), initial_conditions[2][:,:2], initial_conditions[2][:,2:], dT, steps)\n",
    "]\n",
    "\n",
    "input_labels = [\"100 bodies\", \"200 bodies\", \"400 bodies\"]\n",
    "\n",
    "# Benchmarking\n",
    "times = np.zeros((len(functions), len(input_sets)))"
   ]
  },
  {
   "cell_type": "code",
   "execution_count": null,
   "metadata": {},
   "outputs": [],
   "source": [
    "import time\n",
    "\n",
    "for i, func in enumerate(functions):\n",
    "    for j, input_data in enumerate(input_sets):\n",
    "        durations = []\n",
    "        for _ in range(3):  # Run each function 3 times\n",
    "            start = time.perf_counter()\n",
    "            if __name__ == \"__main__\":\n",
    "                func(*input_data)\n",
    "            end = time.perf_counter()\n",
    "            durations.append(end - start)\n",
    "        times[i, j] = np.mean(durations)"
   ]
  },
  {
   "cell_type": "code",
   "execution_count": null,
   "metadata": {},
   "outputs": [],
   "source": [
    "np.save(f\"times.npy\", times)"
   ]
  },
  {
   "cell_type": "code",
   "execution_count": null,
   "metadata": {},
   "outputs": [],
   "source": [
    "# Plotting\n",
    "x = np.arange(len(input_sets))\n",
    "width = 0.15  # widt h of the bars\n",
    "\n",
    "fig, ax = plt.subplots(figsize=(10, 6))\n",
    "for i in range(len(functions)):\n",
    "    ax.bar(x + i * width, times[i], width, label=function_names[i])\n",
    "\n",
    "ax.set_ylabel('Average Time (s)')\n",
    "ax.set_title('Function Performance Scaling')\n",
    "ax.set_xticks(x + width * 2)\n",
    "ax.set_xticklabels(input_labels)\n",
    "ax.legend()\n",
    "\n",
    "plt.tight_layout()\n",
    "plt.show()"
   ]
  }
 ],
 "metadata": {
  "kernelspec": {
   "display_name": ".venv",
   "language": "python",
   "name": "python3"
  },
  "language_info": {
   "codemirror_mode": {
    "name": "ipython",
    "version": 3
   },
   "file_extension": ".py",
   "mimetype": "text/x-python",
   "name": "python",
   "nbconvert_exporter": "python",
   "pygments_lexer": "ipython3",
   "version": "3.12.10"
  }
 },
 "nbformat": 4,
 "nbformat_minor": 2
}
